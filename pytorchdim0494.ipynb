{
 "cells": [
  {
   "cell_type": "code",
   "execution_count": 12,
   "id": "580c9685",
   "metadata": {},
   "outputs": [],
   "source": [
    "import torch\n",
    "import torch.nn as nn\n",
    "import torch.optim as optim\n",
    "import torchvision\n",
    "import torchvision.transforms as transforms"
   ]
  },
  {
   "cell_type": "code",
   "execution_count": 13,
   "id": "e5205d99",
   "metadata": {},
   "outputs": [
    {
     "data": {
      "text/plain": [
       "device(type='cuda')"
      ]
     },
     "execution_count": 13,
     "metadata": {},
     "output_type": "execute_result"
    }
   ],
   "source": [
    "device = torch.device('cuda' if torch.cuda.is_available() else 'cpu')\n",
    "device"
   ]
  },
  {
   "cell_type": "code",
   "execution_count": 14,
   "id": "6adedefb",
   "metadata": {},
   "outputs": [],
   "source": [
    "transform = transforms.Compose([transforms.ToTensor(),transforms.Normalize((0.5,), (0.5,))])\n",
    "\n",
    "train_dataset = torchvision.datasets.MNIST(root='./data', train=True, download=True, transform=transform)\n",
    "test_dataset = torchvision.datasets.MNIST(root='./data', train=False, download=True, transform=transform)\n",
    "\n",
    "train_loader = torch.utils.data.DataLoader(train_dataset, batch_size=64, shuffle=True)\n",
    "test_loader = torch.utils.data.DataLoader(test_dataset, batch_size=64, shuffle=False)\n"
   ]
  },
  {
   "cell_type": "code",
   "execution_count": 15,
   "id": "c8cda963",
   "metadata": {},
   "outputs": [],
   "source": [
    "# Definir a arquitetura da rede neural\n",
    "class Net(nn.Module):\n",
    "    def __init__(self):\n",
    "        super(Net, self).__init__()\n",
    "        self.fc1 = nn.Linear(784, 128)\n",
    "        self.fc2 = nn.Linear(128, 64)\n",
    "        self.fc3 = nn.Linear(64, 10)\n",
    "\n",
    "    def forward(self, x):\n",
    "        x = x.view(-1, 784)\n",
    "        x = torch.relu(self.fc1(x))\n",
    "        x = torch.relu(self.fc2(x))\n",
    "        x = self.fc3(x)\n",
    "        return x\n",
    "\n",
    "# Instanciar o modelo\n",
    "model = Net()\n",
    "\n"
   ]
  },
  {
   "cell_type": "code",
   "execution_count": 16,
   "id": "fdfb8309",
   "metadata": {},
   "outputs": [],
   "source": [
    "criterion = nn.CrossEntropyLoss()\n",
    "optimizer = optim.SGD(model.parameters(), lr=0.01)\n"
   ]
  },
  {
   "cell_type": "code",
   "execution_count": 17,
   "id": "48d0da6a",
   "metadata": {},
   "outputs": [
    {
     "name": "stdout",
     "output_type": "stream",
     "text": [
      "Epoch [1/20], Loss: 1.0611773439244168, Accuracy: 72.52666666666667%\n",
      "Epoch [2/20], Loss: 0.38581317567876156, Accuracy: 88.81833333333333%\n",
      "Epoch [3/20], Loss: 0.3213291974829585, Accuracy: 90.51666666666667%\n",
      "Epoch [4/20], Loss: 0.2883440310210943, Accuracy: 91.52833333333334%\n",
      "Epoch [5/20], Loss: 0.26201383167826164, Accuracy: 92.35833333333333%\n",
      "Epoch [6/20], Loss: 0.23890626491672956, Accuracy: 92.995%\n",
      "Epoch [7/20], Loss: 0.21856539171022266, Accuracy: 93.6%\n",
      "Epoch [8/20], Loss: 0.20051501370839345, Accuracy: 94.19166666666666%\n",
      "Epoch [9/20], Loss: 0.18584838190249034, Accuracy: 94.62666666666667%\n",
      "Epoch [10/20], Loss: 0.17242533659963594, Accuracy: 95.04166666666667%\n",
      "Epoch [11/20], Loss: 0.1604834886879396, Accuracy: 95.32833333333333%\n",
      "Epoch [12/20], Loss: 0.1496684295115377, Accuracy: 95.70333333333333%\n",
      "Epoch [13/20], Loss: 0.1404002852666416, Accuracy: 95.935%\n",
      "Epoch [14/20], Loss: 0.13151694905918354, Accuracy: 96.20333333333333%\n",
      "Epoch [15/20], Loss: 0.12376650796531996, Accuracy: 96.475%\n",
      "Epoch [16/20], Loss: 0.1173117654805165, Accuracy: 96.59833333333333%\n",
      "Epoch [17/20], Loss: 0.11086292074484898, Accuracy: 96.83666666666667%\n",
      "Epoch [18/20], Loss: 0.10468032909259359, Accuracy: 97.03166666666667%\n",
      "Epoch [19/20], Loss: 0.09961568310396123, Accuracy: 97.13666666666667%\n",
      "Epoch [20/20], Loss: 0.09465890440907178, Accuracy: 97.25%\n"
     ]
    }
   ],
   "source": [
    "num_epochs = 20\n",
    "\n",
    "# Listas para armazenar as métricas\n",
    "train_loss_values = []\n",
    "train_acc_values = []\n",
    "\n",
    "# Treinamento do modelo\n",
    "for epoch in range(num_epochs):\n",
    "    running_loss = 0.0\n",
    "    correct = 0\n",
    "    total = 0\n",
    "    \n",
    "    for images, labels in train_loader:\n",
    "        optimizer.zero_grad()\n",
    "        outputs = model(images)\n",
    "        loss = criterion(outputs, labels)\n",
    "        loss.backward()\n",
    "        optimizer.step()\n",
    "        \n",
    "        running_loss += loss.item()\n",
    "        _, predicted = torch.max(outputs.data, 1)\n",
    "        total += labels.size(0)\n",
    "        correct += (predicted == labels).sum().item()\n",
    "    \n",
    "    # Calcular métricas de treinamento\n",
    "    train_loss = running_loss / len(train_loader)\n",
    "    train_acc = 100 * correct / total\n",
    "    \n",
    "    # Adicionar métricas às listas\n",
    "    train_loss_values.append(train_loss)\n",
    "    train_acc_values.append(train_acc)\n",
    "    \n",
    "    print(f'Epoch [{epoch+1}/{num_epochs}], Loss: {train_loss}, Accuracy: {train_acc}%')\n",
    "\n"
   ]
  },
  {
   "cell_type": "code",
   "execution_count": 18,
   "id": "3fa7c68e",
   "metadata": {},
   "outputs": [
    {
     "name": "stdout",
     "output_type": "stream",
     "text": [
      "Accuracy on test set: 96.88%\n"
     ]
    }
   ],
   "source": [
    "correct = 0\n",
    "total = 0\n",
    "\n",
    "with torch.no_grad():\n",
    "    for images, labels in test_loader:\n",
    "        outputs = model(images)\n",
    "        _, predicted = torch.max(outputs.data, 1)\n",
    "        total += labels.size(0)\n",
    "        correct += (predicted == labels).sum().item()\n",
    "\n",
    "accuracy = 100 * correct / total\n",
    "print(f'Accuracy on test set: {accuracy}%')\n"
   ]
  },
  {
   "cell_type": "code",
   "execution_count": 19,
   "id": "facb9dec",
   "metadata": {},
   "outputs": [
    {
     "data": {
      "image/png": "[encoded data removed]",
      "text/plain": [
       "<Figure size 640x480 with 1 Axes>"
      ]
     },
     "metadata": {},
     "output_type": "display_data"
    },
    {
     "data": {
      "image/png": "[encoded data removed]",
      "text/plain": [
       "<Figure size 640x480 with 1 Axes>"
      ]
     },
     "metadata": {},
     "output_type": "display_data"
    },
    {
     "name": "stdout",
     "output_type": "stream",
     "text": [
      "Accuracy on test set: 96.88%\n"
     ]
    }
   ],
   "source": [
    "import matplotlib.pyplot as plt\n",
    "# Plotar gráfico de perda\n",
    "plt.plot(train_loss_values)\n",
    "plt.xlabel('Epoch')\n",
    "plt.ylabel('Loss')\n",
    "plt.title('Training Loss')\n",
    "plt.show()\n",
    "\n",
    "# Plotar gráfico de acurácia\n",
    "plt.plot(train_acc_values)\n",
    "plt.xlabel('Epoch')\n",
    "plt.ylabel('Accuracy')\n",
    "plt.title('Training Accuracy')\n",
    "plt.show()\n",
    "\n",
    "# Avaliação do modelo no conjunto de teste\n",
    "correct = 0\n",
    "total = 0\n",
    "\n",
    "with torch.no_grad():\n",
    "    for images, labels in test_loader:\n",
    "        outputs = model(images)\n",
    "        _, predicted = torch.max(outputs.data, 1)\n",
    "        total += labels.size(0)\n",
    "        correct += (predicted == labels).sum().item()\n",
    "\n",
    "accuracy = 100 * correct / total\n",
    "print(f'Accuracy on test set: {accuracy}%')"
   ]
  },
  {
   "cell_type": "code",
   "execution_count": null,
   "id": "56e1a465",
   "metadata": {},
   "outputs": [],
   "source": []
  }
 ],
 "metadata": {
  "kernelspec": {
   "display_name": "Python (tf2)",
   "language": "python",
   "name": "tf2"
  },
  "language_info": {
   "codemirror_mode": {
    "name": "ipython",
    "version": 3
   },
   "file_extension": ".py",
   "mimetype": "text/x-python",
   "name": "python",
   "nbconvert_exporter": "python",
   "pygments_lexer": "ipython3",
   "version": "3.9.16"
  }
 },
 "nbformat": 4,
 "nbformat_minor": 5
}
